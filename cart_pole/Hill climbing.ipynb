{
 "cells": [
  {
   "cell_type": "markdown",
   "metadata": {},
   "source": [
    "# Hill climbing"
   ]
  },
  {
   "cell_type": "code",
   "execution_count": 1,
   "metadata": {
    "collapsed": true
   },
   "outputs": [],
   "source": [
    "import numpy as np\n",
    "import gym"
   ]
  },
  {
   "cell_type": "code",
   "execution_count": 2,
   "metadata": {
    "collapsed": false
   },
   "outputs": [
    {
     "name": "stderr",
     "output_type": "stream",
     "text": [
      "[2016-11-13 20:46:44,552] Making new env: CartPole-v0\n"
     ]
    }
   ],
   "source": [
    "env = gym.make('CartPole-v0')"
   ]
  },
  {
   "cell_type": "code",
   "execution_count": 3,
   "metadata": {
    "collapsed": true
   },
   "outputs": [],
   "source": [
    "def sigmoid(x):\n",
    "    return 1 / (1 + np.exp(-x))"
   ]
  },
  {
   "cell_type": "code",
   "execution_count": 4,
   "metadata": {
    "collapsed": false,
    "scrolled": true
   },
   "outputs": [
    {
     "name": "stdout",
     "output_type": "stream",
     "text": [
      "Epoch: 0 | Episode Reward: 9.0 | Best Reward: 9.0\n",
      "Epoch: 1 | Episode Reward: 11.0 | Best Reward: 11.0\n",
      "Epoch: 2 | Episode Reward: 262.0 | Best Reward: 262.0\n",
      "Epoch: 3 | Episode Reward: 21.0 | Best Reward: 262.0\n",
      "Epoch: 4 | Episode Reward: 93.0 | Best Reward: 262.0\n",
      "Epoch: 5 | Episode Reward: 8.0 | Best Reward: 262.0\n",
      "Epoch: 6 | Episode Reward: 10.0 | Best Reward: 262.0\n",
      "Epoch: 7 | Episode Reward: 10.0 | Best Reward: 262.0\n",
      "Epoch: 8 | Episode Reward: 186.0 | Best Reward: 262.0\n",
      "Epoch: 9 | Episode Reward: 53.0 | Best Reward: 262.0\n",
      "Epoch: 10 | Episode Reward: 134.0 | Best Reward: 262.0\n",
      "Epoch: 11 | Episode Reward: 77.0 | Best Reward: 262.0\n",
      "Epoch: 12 | Episode Reward: 11.0 | Best Reward: 262.0\n",
      "Epoch: 13 | Episode Reward: 754.0 | Best Reward: 754.0\n",
      "Epoch: 14 | Episode Reward: 251.0 | Best Reward: 754.0\n",
      "Epoch: 15 | Episode Reward: 536.0 | Best Reward: 754.0\n",
      "Epoch: 16 | Episode Reward: 477.0 | Best Reward: 754.0\n",
      "Epoch: 17 | Episode Reward: 153.0 | Best Reward: 754.0\n",
      "Epoch: 18 | Episode Reward: 289.0 | Best Reward: 754.0\n",
      "Epoch: 19 | Episode Reward: 94.0 | Best Reward: 754.0\n",
      "Epoch: 20 | Episode Reward: 1201.0 | Best Reward: 1201.0\n",
      "Converged in 21 episodes!\n",
      "Final weights: [  6.31075254e-05   1.52192141e-01   2.25948175e-01   1.42823792e-01]\n"
     ]
    }
   ],
   "source": [
    "episode = 0\n",
    "ep_reward = 0\n",
    "best_reward = 0\n",
    "converged = False\n",
    "\n",
    "# Weights\n",
    "W = np.random.normal(0.0, 0.1, 4)\n",
    "new_W = W\n",
    "learning_rate = 1e-1\n",
    "\n",
    "while not converged:\n",
    "    # Reset episode\n",
    "    done = False\n",
    "    ep_reward = 0\n",
    "    obs = env.reset()\n",
    "    \n",
    "    # Keep taking new actions until episode is done\n",
    "    while not done:        \n",
    "        # Get action probability\n",
    "        action = sigmoid(obs.dot(new_W))\n",
    "        # Round the action to the highest probability\n",
    "        action = int(np.round(action))\n",
    "        \n",
    "        # Perform the action\n",
    "        obs, reward, done, info = env.step(action)\n",
    "        ep_reward += reward  \n",
    "        # Render only if better than the best\n",
    "        if ep_reward > best_reward:\n",
    "            env.render()       \n",
    "            pass\n",
    "        # Check if converged\n",
    "        if ep_reward > 1200:\n",
    "            converged = True\n",
    "            break          \n",
    "          \n",
    "    # \"Train\" process\n",
    "    if ep_reward > best_reward:\n",
    "        W = new_W\n",
    "        best_reward = ep_reward\n",
    "    # Add noise to the current weight\n",
    "    new_W = W + learning_rate * np.random.randn(4)       \n",
    "    \n",
    "    # Print episode statistics\n",
    "    print('Epoch: {} | Episode Reward: {} | Best Reward: {}'.format(episode, ep_reward, best_reward))\n",
    "    episode += 1\n",
    "    \n",
    "print('Converged in {} episodes!'.format(episode))\n",
    "print('Final weights: {}'.format(W))\n",
    "\n",
    "env.close()"
   ]
  }
 ],
 "metadata": {
  "anaconda-cloud": {},
  "kernelspec": {
   "display_name": "Python [conda root]",
   "language": "python",
   "name": "conda-root-py"
  },
  "language_info": {
   "codemirror_mode": {
    "name": "ipython",
    "version": 3
   },
   "file_extension": ".py",
   "mimetype": "text/x-python",
   "name": "python",
   "nbconvert_exporter": "python",
   "pygments_lexer": "ipython3",
   "version": "3.5.2"
  }
 },
 "nbformat": 4,
 "nbformat_minor": 1
}
