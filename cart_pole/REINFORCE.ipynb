{
 "cells": [
  {
   "cell_type": "code",
   "execution_count": 1,
   "metadata": {
    "collapsed": true
   },
   "outputs": [],
   "source": [
    "import gym\n",
    "from gym import wrappers\n",
    "import numpy as np\n",
    "import tensorflow as tf\n",
    "from tensorflow.contrib import slim\n",
    "\n",
    "import os\n",
    "import itertools\n",
    "\n",
    "%matplotlib inline\n",
    "import matplotlib.pyplot as plt\n",
    "from matplotlib import style\n",
    "style.use('ggplot')"
   ]
  },
  {
   "cell_type": "code",
   "execution_count": 2,
   "metadata": {
    "collapsed": false,
    "scrolled": true
   },
   "outputs": [
    {
     "name": "stderr",
     "output_type": "stream",
     "text": [
      "[2017-01-01 20:09:34,735] Making new env: CartPole-v0\n"
     ]
    }
   ],
   "source": [
    "env = gym.make('CartPole-v0')\n",
    "n_features = env.observation_space.shape[0]\n",
    "n_actions = env.action_space.n"
   ]
  },
  {
   "cell_type": "code",
   "execution_count": 3,
   "metadata": {
    "collapsed": false
   },
   "outputs": [],
   "source": [
    "def make_normalization(env):\n",
    "    ''' Normalizes the state space '''\n",
    "    states_sample = np.array([env.observation_space.sample() for _ in range(100000)])\n",
    "    states_mean = np.mean(states_sample, axis=0)\n",
    "    states_std = np.std(states_sample, axis=0)\n",
    "    \n",
    "    def normalize_state(state):\n",
    "        return (state - states_mean) / states_std\n",
    "    \n",
    "    return normalize_state"
   ]
  },
  {
   "cell_type": "code",
   "execution_count": 4,
   "metadata": {
    "collapsed": false
   },
   "outputs": [],
   "source": [
    "def reward_return(rewards, discount_factor=0.99):\n",
    "    ''' Calculate the return from step t '''\n",
    "    G = []\n",
    "    G_sum = 0\n",
    "    # Start calculating from the last reward\n",
    "    for t, reward in enumerate(reversed(rewards)):\n",
    "        G_sum = G_sum * discount_factor + reward\n",
    "        G.append(G_sum)\n",
    "    # Revert list again\n",
    "    G.reverse()\n",
    "    # Normalize returns\n",
    "    G = (G - np.mean(G)) / np.std(G)\n",
    "    return G"
   ]
  },
  {
   "cell_type": "code",
   "execution_count": 5,
   "metadata": {
    "collapsed": true
   },
   "outputs": [],
   "source": [
    "def convolve(x, window_size):\n",
    "    ''' Take the mean of array over window '''\n",
    "    weigths = np.repeat(1.0, window_size) / window_size\n",
    "    return np.convolve(np.mean(x, axis=0), weigths, 'same')"
   ]
  },
  {
   "cell_type": "code",
   "execution_count": 6,
   "metadata": {
    "collapsed": false
   },
   "outputs": [],
   "source": [
    "class Policy:\n",
    "    ''' Define a neural network that will be used as a policy '''\n",
    "    def __init__(self, learning_rate):\n",
    "        # Placeholders\n",
    "        self.X = tf.placeholder(name='input', shape=[None, n_features], dtype=tf.float32)\n",
    "        self.G = tf.placeholder(name='return', shape=[None], dtype=tf.float32)\n",
    "        self.action = tf.placeholder(name='chosen_action', shape=[None], dtype=tf.int32)\n",
    "        # Network body\n",
    "        self.hidden = slim.fully_connected(inputs=self.X, num_outputs=16)\n",
    "        self.output = slim.fully_connected(inputs=self.hidden, num_outputs=n_actions, activation_fn=tf.nn.softmax)        \n",
    "        \n",
    "        # SGD step\n",
    "        # Get only the actions that were chosen\n",
    "        batch_size = tf.shape(self.X)[0]   \n",
    "        actions_ids = tf.range(batch_size) * tf.shape(self.output)[1] + self.action\n",
    "        chosen_actions = tf.gather(tf.reshape(self.output, [-1]), actions_ids)        \n",
    "        eligibility = tf.log(chosen_actions)\n",
    "        # Change the likelihood of taken action using the return (self.G)        \n",
    "        loss = -tf.reduce_mean(self.G * eligibility)\n",
    "        opt = tf.train.AdamOptimizer(learning_rate)\n",
    "        # We should perform gradient ascent in the likelihood of specified action\n",
    "        # which is the same as performing gradient descent on the negative of the loss\n",
    "        self.train_op = opt.minimize(loss)\n",
    "        \n",
    "    def predict(self, sess, state):\n",
    "        ''' Return action probabilities'''\n",
    "        return sess.run(self.output, feed_dict={self.X: state})\n",
    "    \n",
    "    def update(self, sess, state, action, returns):\n",
    "        ''' Perform SGD '''\n",
    "        feed_dict = {self.X: state, self.action: action, self.G: returns}\n",
    "        sess.run(self.train_op, feed_dict=feed_dict)"
   ]
  },
  {
   "cell_type": "code",
   "execution_count": 7,
   "metadata": {
    "collapsed": true
   },
   "outputs": [],
   "source": [
    "class Baseline:\n",
    "    def __init__(self, learning_rate):\n",
    "        ''' Generates the network '''\n",
    "        # Placeholders\n",
    "        self.X = tf.placeholder(name='input', shape=[None, n_features], dtype=tf.float32)\n",
    "        self.Y = tf.placeholder(name='target', shape=[None], dtype=tf.float32)\n",
    "\n",
    "        # Network body\n",
    "        self.hidden = slim.fully_connected(inputs=self.X, num_outputs=16)\n",
    "        self.output = slim.fully_connected(inputs=self.hidden, num_outputs=1, activation_fn=None) \n",
    "\n",
    "        # Loss (Mean squared error)\n",
    "        loss = tf.squared_difference(self.Y, self.output)\n",
    "        opt = tf.train.AdamOptimizer(learning_rate)\n",
    "        self.train_op = opt.minimize(loss)\n",
    "    \n",
    "    def predict(self, sess, state):\n",
    "        ''' Computes the state value '''\n",
    "        return sess.run(self.output, feed_dict={self.X: state})\n",
    "    \n",
    "    def update(self, sess, state, target):\n",
    "        feed_dict = {self.X: state, self.Y: target}\n",
    "        sess.run(self.train_op, feed_dict=feed_dict)"
   ]
  },
  {
   "cell_type": "code",
   "execution_count": 8,
   "metadata": {
    "collapsed": false
   },
   "outputs": [],
   "source": [
    "def test_updates(learning_rate, batch_size=100):\n",
    "    ''' Test if the weigth updates are giving the desired outputs '''\n",
    "    # Create a new policy\n",
    "    tf.reset_default_graph()\n",
    "    policy = Policy(learning_rate=learning_rate)\n",
    "    state = [env.observation_space.sample() for _ in range(batch_size)]\n",
    "    # Normalize states\n",
    "    normalizer = make_normalization(env)\n",
    "    state = normalizer(state)\n",
    "    # Tuples of returns and what should happen to actions\n",
    "    fake_returns = [(100, 'increase'), (-100, 'decrease')]\n",
    "    for action in range(n_actions):\n",
    "        actions = action * np.ones(batch_size)\n",
    "        for fake_return, expected in fake_returns:\n",
    "            # Reinitialize session because ADAM optimizer builds momentum\n",
    "            with tf.Session() as sess:\n",
    "                tf.global_variables_initializer().run()\n",
    "                # Compare new and old probabilities\n",
    "                old_probs = policy.predict(sess, state)\n",
    "                policy.update(sess, state, actions, [fake_return])\n",
    "                new_probs = policy.predict(sess, state)        \n",
    "                print('Action {} probability should {}:'.format(action, expected), end=' ')\n",
    "                print(np.mean(new_probs - old_probs, axis=0))"
   ]
  },
  {
   "cell_type": "code",
   "execution_count": 9,
   "metadata": {
    "collapsed": false
   },
   "outputs": [],
   "source": [
    "def train(env, n_episodes, learning_rate, use_baseline=True, record_every_steps=None):\n",
    "\n",
    "    # Create new policy\n",
    "    tf.reset_default_graph()\n",
    "    policy = Policy(learning_rate)\n",
    "    if use_baseline:\n",
    "        value = Baseline(learning_rate)\n",
    "\n",
    "    if record_every_steps is not None:\n",
    "        # If record video\n",
    "        video_dir = 'videos'\n",
    "        video_path = os.path.join(video_dir, 'REINFORCE')\n",
    "        # If directory dont exists, create one\n",
    "        if not os.path.exists(video_path):\n",
    "            os.makedirs(video_path)\n",
    "\n",
    "#        env = wrappers.Monitor(env = env, directory=video_path,\n",
    "#                               force=True)(env)#,\n",
    "#                                video_callable=lambda count: count % record_every_steps == 0)(env)\n",
    "\n",
    "    with tf.Session() as sess:\n",
    "        tf.global_variables_initializer().run()\n",
    "        length = []\n",
    "\n",
    "        for i_episode in range(n_episodes):\n",
    "            state = env.reset()\n",
    "            experience = []\n",
    "\n",
    "            for t in itertools.count():\n",
    "                # Choose an action\n",
    "                action_probs = policy.predict(sess, [state])\n",
    "                action = np.random.choice(np.arange(n_actions), p=np.squeeze(action_probs))\n",
    "                # Take the action\n",
    "                next_state, reward, done, _ = env.step(action)\n",
    "                # Store experience\n",
    "                experience.append((state, action, reward))\n",
    "                # Update state and please, dont run forever\n",
    "                # Force termination may cause a monitor error\n",
    "                if done or t == 10000:\n",
    "                    break\n",
    "                state = next_state\n",
    "\n",
    "            # Unpack episode\n",
    "            ep_states, ep_actions, ep_rewards = map(np.array, zip(*experience))\n",
    "            ep_returns = reward_return(ep_rewards)\n",
    "            if use_baseline:\n",
    "                # Calculate baseline returns\n",
    "                states_value = value.predict(sess, ep_states)\n",
    "                base_returns = ep_returns - np.squeeze(states_value)\n",
    "                # Update Baseline weigths\n",
    "                value.update(sess, ep_states, ep_returns)\n",
    "            else:\n",
    "                base_returns = ep_returns\n",
    "                \n",
    "            # Update Policy weigths\n",
    "            policy.update(sess, ep_states, ep_actions, base_returns)\n",
    "            # Store episode length\n",
    "            length.append(t)\n",
    "\n",
    "            # Print information\n",
    "            print('\\rEpisode {}/{} | Length: {}'.format(i_episode, n_episodes, t), end='', flush=True)\n",
    "\n",
    "    env.close()\n",
    "    return length"
   ]
  },
  {
   "cell_type": "code",
   "execution_count": 10,
   "metadata": {
    "collapsed": false
   },
   "outputs": [
    {
     "name": "stderr",
     "output_type": "stream",
     "text": [
      "/home/quazar/anaconda3/lib/python3.5/site-packages/tensorflow/python/ops/gradients_impl.py:91: UserWarning: Converting sparse IndexedSlices to a dense Tensor of unknown shape. This may consume a large amount of memory.\n",
      "  \"Converting sparse IndexedSlices to a dense Tensor of unknown shape. \"\n"
     ]
    },
    {
     "name": "stdout",
     "output_type": "stream",
     "text": [
      "Action 0 probability should increase: [ 0.04171783 -0.04171783]\n",
      "Action 0 probability should decrease: [-0.03687058  0.03687058]\n",
      "Action 1 probability should increase: [-0.03665509  0.03665509]\n",
      "Action 1 probability should decrease: [ 0.03720761 -0.03720759]\n"
     ]
    }
   ],
   "source": [
    "test_updates(learning_rate=1e-2)"
   ]
  },
  {
   "cell_type": "code",
   "execution_count": 11,
   "metadata": {
    "collapsed": false
   },
   "outputs": [
    {
     "name": "stderr",
     "output_type": "stream",
     "text": [
      "/home/quazar/anaconda3/lib/python3.5/site-packages/tensorflow/python/ops/gradients_impl.py:91: UserWarning: Converting sparse IndexedSlices to a dense Tensor of unknown shape. This may consume a large amount of memory.\n",
      "  \"Converting sparse IndexedSlices to a dense Tensor of unknown shape. \"\n"
     ]
    },
    {
     "name": "stdout",
     "output_type": "stream",
     "text": [
      "Episode 999/1000 | Length: 10000"
     ]
    }
   ],
   "source": [
    "without_baseline = [train(env=env, n_episodes=1000, learning_rate=5e-3,\n",
    "                         use_baseline=False, record_every_steps=None) for _ in range(2)]"
   ]
  },
  {
   "cell_type": "code",
   "execution_count": 12,
   "metadata": {
    "collapsed": false
   },
   "outputs": [
    {
     "name": "stderr",
     "output_type": "stream",
     "text": [
      "/home/quazar/anaconda3/lib/python3.5/site-packages/tensorflow/python/ops/gradients_impl.py:91: UserWarning: Converting sparse IndexedSlices to a dense Tensor of unknown shape. This may consume a large amount of memory.\n",
      "  \"Converting sparse IndexedSlices to a dense Tensor of unknown shape. \"\n"
     ]
    },
    {
     "name": "stdout",
     "output_type": "stream",
     "text": [
      "Episode 999/1000 | Length: 5564"
     ]
    }
   ],
   "source": [
    "with_baseline = [train(env=env, n_episodes=1000, learning_rate=5e-3,\n",
    "                      use_baseline=True, record_every_steps=None) for _ in range(2)]"
   ]
  },
  {
   "cell_type": "code",
   "execution_count": 14,
   "metadata": {
    "collapsed": false
   },
   "outputs": [
    {
     "data": {
      "text/plain": [
       "<matplotlib.legend.Legend at 0x7f5747f9b588>"
      ]
     },
     "execution_count": 14,
     "metadata": {},
     "output_type": "execute_result"
    },
    {
     "data": {
      "image/png": "[encoded data removed]",
      "text/plain": [
       "<matplotlib.figure.Figure at 0x7f5747f9b940>"
      ]
     },
     "metadata": {},
     "output_type": "display_data"
    }
   ],
   "source": [
    "# Plot episodes length smoothed over a window size of 10\n",
    "plt.plot(convolve(without_baseline, 10), label='without_baseline')\n",
    "plt.plot(convolve(with_baseline, 10), label='with_baseline')\n",
    "plt.title('Average episode length')\n",
    "plt.xlabel('episode')\n",
    "plt.ylabel('length')\n",
    "plt.legend(loc='upper left')"
   ]
  }
 ],
 "metadata": {
  "anaconda-cloud": {},
  "kernelspec": {
   "display_name": "Python [conda root]",
   "language": "python",
   "name": "conda-root-py"
  },
  "language_info": {
   "codemirror_mode": {
    "name": "ipython",
    "version": 3
   },
   "file_extension": ".py",
   "mimetype": "text/x-python",
   "name": "python",
   "nbconvert_exporter": "python",
   "pygments_lexer": "ipython3",
   "version": "3.5.2"
  }
 },
 "nbformat": 4,
 "nbformat_minor": 1
}
